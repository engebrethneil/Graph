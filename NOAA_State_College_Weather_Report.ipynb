{
  "nbformat": 4,
  "nbformat_minor": 0,
  "metadata": {
    "colab": {
      "name": "NOAA State College Weather Report",
      "provenance": [],
      "authorship_tag": "ABX9TyO5Ug9VFCKa80sx+UEPLJ4q",
      "include_colab_link": true
    },
    "kernelspec": {
      "name": "python3",
      "display_name": "Python 3"
    }
  },
  "cells": [
    {
      "cell_type": "markdown",
      "metadata": {
        "id": "view-in-github",
        "colab_type": "text"
      },
      "source": [
        "<a href=\"https://colab.research.google.com/github/engebrethneil/Graph/blob/master/NOAA_State_College_Weather_Report.ipynb\" target=\"_parent\"><img src=\"https://colab.research.google.com/assets/colab-badge.svg\" alt=\"Open In Colab\"/></a>"
      ]
    },
    {
      "cell_type": "markdown",
      "metadata": {
        "id": "wCQH5p9dm5wc",
        "colab_type": "text"
      },
      "source": [
        "#NOAA State College Weather\n"
      ]
    },
    {
      "cell_type": "markdown",
      "metadata": {
        "id": "SKjfCUEpm1E0",
        "colab_type": "text"
      },
      "source": [
        "The image will show the inches of snow throughout the span of three years from 2017 to 2019. This graph that is going to be displayed will show all aspects of the timeline of inches of precipitation over the past year on January 1st.The following graph will show the inches on the date January 1st from 2017 to 2019."
      ]
    },
    {
      "cell_type": "markdown",
      "metadata": {
        "id": "mTkejXTO0GlD",
        "colab_type": "text"
      },
      "source": [
        "![alt text](https://raw.githubusercontent.com/engebrethneil/Graph/master/untitled-3.png)"
      ]
    },
    {
      "cell_type": "markdown",
      "metadata": {
        "id": "-s09tElK0KDs",
        "colab_type": "text"
      },
      "source": [
        "The Graph above shows the Inches of Precipitation on January 1st from 2017 to 2019. As shown in the graph, January 1st 2017 showed a very small amount of rain being only 0.1 Inches. Next, on January 1st 2018 there was no rain and was marked at 0. Finally, on January 1st 2019 the graph shows a spike as 0.88 Inches of rain were recorded in State College.  Overall January 1st at this time have an influx of rain showing either to be very high or none at all. We can make that inference by using the graph above. "
      ]
    }
  ]
}